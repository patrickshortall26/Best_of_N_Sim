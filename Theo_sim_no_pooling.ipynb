{
 "cells": [
  {
   "cell_type": "code",
   "execution_count": 870,
   "metadata": {},
   "outputs": [],
   "source": [
    "import mesa\n",
    "import random\n",
    "import numpy as np\n",
    "\n",
    "class NaiveAgent(mesa.Agent):\n",
    "    \n",
    "    def __init__(self, unique_id, model):\n",
    "        super().__init__(unique_id, model)\n",
    "        # Initial opinion vector for each agent\n",
    "        self.opinion_vec = [0.15, 0.15, 0.1, 0.05, 0.25, 0.1, 0.2]\n",
    "#         self.opinion_vec = [1/len(Naive_model.nodes)] * len(Naive_model.nodes)\n",
    "        \n",
    "    def step(self):\n",
    "        temp_list = list(range(len(self.opinion_vec)))\n",
    "        node_idx1 = random.choice(temp_list)\n",
    "        temp_list.remove(node_idx1)\n",
    "        node_idx2 = random.choice(temp_list)\n",
    "        \n",
    "        node1 = Naive_model.nodes[node_idx1]\n",
    "        node2 = Naive_model.nodes[node_idx2]\n",
    "        \n",
    "        op_val1 = self.opinion_vec[node_idx1]\n",
    "        op_val2 = self.opinion_vec[node_idx2]\n",
    "        \n",
    "        alpha = Naive_model.alpha\n",
    "        \n",
    "        # Negative updating\n",
    "        \n",
    "        for idx in range(len(self.opinion_vec)):\n",
    "            op_val = self.opinion_vec[idx]\n",
    "            if node1 > node2:\n",
    "                if idx != node_idx2:\n",
    "                    self.opinion_vec[idx] = ((1-alpha) * op_val) / ((alpha * op_val2) + (1 - alpha) * (1 - op_val2))\n",
    "            \n",
    "                if idx == node_idx2:\n",
    "                    self.opinion_vec[node_idx2] = (alpha * op_val) / ((alpha * op_val) + (1 - alpha) * (1 - op_val))\n",
    "                    \n",
    "            if node2 > node1:\n",
    "                if idx != node_idx1:\n",
    "                    self.opinion_vec[idx] = ((1-alpha) * op_val) / ((alpha * op_val1) + (1 - alpha) * (1 - op_val1))\n",
    "            \n",
    "                if idx == node_idx1:\n",
    "                    self.opinion_vec[node_idx1] = (alpha * op_val) / ((alpha * op_val) + (1 - alpha) * (1 - op_val))   \n",
    "                    \n",
    "        print(self.opinion_vec)\n",
    "        print(sum(self.opinion_vec))\n",
    "              \n",
    " #       The agent's step will go here.\n",
    " #       We want the agent to randomly come across a node, from list of nodes n        \n",
    "        \n",
    "        \n",
    "class Naive_model(mesa.Model):\n",
    "    # Set nodes and alpha here    \n",
    "    nodes = [3, 1, 4, 2, 8, 6, 5]\n",
    "    alpha = 0.15\n",
    "    \n",
    "    def __init__(self, K):\n",
    "        self.num_agents = K\n",
    "        self.schedule = mesa.time.RandomActivation(self)\n",
    "        \n",
    "        # Create agents\n",
    "        for i in range(self.num_agents):\n",
    "            a = NaiveAgent(i, self)\n",
    "            self.schedule.add(a)\n",
    "\n",
    "    def step(self):\n",
    "        # advance schedule by one step\n",
    "        self.schedule.step()"
   ]
  },
  {
   "cell_type": "code",
   "execution_count": 900,
   "metadata": {},
   "outputs": [
    {
     "name": "stdout",
     "output_type": "stream",
     "text": [
      "[0.17114093959731547, 0.0302013422818792, 0.11409395973154365, 0.05704697986577183, 0.2852348993288591, 0.11409395973154365, 0.2281879194630873]\n",
      "1.0000000000000002\n"
     ]
    }
   ],
   "source": [
    "model = Naive_model(1)\n",
    "for i in range(1):\n",
    "    model.step()\n",
    "\n",
    "# This basic model so far\n",
    "# - Has K amount of agents, who do not interact\n",
    "# - They randomly interact with pairs of nodes and compare them. If one is better than the other, the scores get negatively updated\n",
    "# via Chanelles negative updating\n",
    "# Not yet\n",
    "\n"
   ]
  }
 ],
 "metadata": {
  "kernelspec": {
   "display_name": "Python 3 (ipykernel)",
   "language": "python",
   "name": "python3"
  },
  "language_info": {
   "codemirror_mode": {
    "name": "ipython",
    "version": 3
   },
   "file_extension": ".py",
   "mimetype": "text/x-python",
   "name": "python",
   "nbconvert_exporter": "python",
   "pygments_lexer": "ipython3",
   "version": "3.8.10"
  }
 },
 "nbformat": 4,
 "nbformat_minor": 4
}
